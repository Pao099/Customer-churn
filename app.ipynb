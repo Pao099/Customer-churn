{
 "cells": [
  {
   "cell_type": "code",
   "execution_count": 15,
   "metadata": {},
   "outputs": [
    {
     "name": "stdout",
     "output_type": "stream",
     "text": [
      "The autoreload extension is already loaded. To reload it, use:\n",
      "  %reload_ext autoreload\n"
     ]
    }
   ],
   "source": [
    "import matplotlib.gridspec as gridspec\n",
    "from sklearn.preprocessing import LabelEncoder\n",
    "import plotly.express as px\n",
    "import numpy as np\n",
    "import pandas as pd\n",
    "import matplotlib.pyplot as plt\n",
    "import matplotlib.gridspec as gs\n",
    "import seaborn as sns\n",
    "import plotly.express as px\n",
    "import plotly as py\n",
    "import plotly.graph_objs as go\n",
    "import warnings\n",
    "import dash\n",
    "# import dash_auth\n",
    "import dash_core_components as dcc\n",
    "import dash_html_components as html\n",
    "warnings.filterwarnings('ignore')\n",
    "from IPython.display import IFrame\n",
    "%matplotlib inline\n",
    "%load_ext autoreload\n",
    "%autoreload 2\n",
    "import dash\n",
    "from jupyter_dash import JupyterDash\n",
    "import dash_core_components as dcc\n",
    "import dash_html_components as html\n",
    "from dash.dependencies import Input, Output\n",
    "import plotly.express as px\n",
    "\n",
    "\n",
    "\n"
   ]
  },
  {
   "cell_type": "code",
   "execution_count": 16,
   "metadata": {},
   "outputs": [],
   "source": [
    "#Read in data file, bankchurners.csv\n",
    "data=pd.read_csv('C:/Users/pao09/BankChurners.csv')"
   ]
  },
  {
   "cell_type": "code",
   "execution_count": 17,
   "metadata": {},
   "outputs": [],
   "source": [
    "\n",
    "#Data Cleaning\n",
    "#Drop unwanted columns\n",
    "df=data.drop(['CLIENTNUM','Naive_Bayes_Classifier_Attrition_Flag_Card_Category_Contacts_Count_12_mon_Dependent_count_Education_Level_Months_Inactive_12_mon_1',\n",
    "         'Naive_Bayes_Classifier_Attrition_Flag_Card_Category_Contacts_Count_12_mon_Dependent_count_Education_Level_Months_Inactive_12_mon_2'], errors='ignore',axis=1)\n"
   ]
  },
  {
   "cell_type": "code",
   "execution_count": 18,
   "metadata": {},
   "outputs": [],
   "source": [
    "df2=pd.read_csv('C:/Users/pao09/BankChurners2.csv')"
   ]
  },
  {
   "cell_type": "code",
   "execution_count": 19,
   "metadata": {},
   "outputs": [],
   "source": [
    "df3= df2.iloc[:,1:]\n"
   ]
  },
  {
   "cell_type": "code",
   "execution_count": 20,
   "metadata": {},
   "outputs": [],
   "source": [
    "#Separate data into categorical, continuous and discreet numeric data types for ease of identification and analysis\n",
    "cat_data=df.select_dtypes('object').columns.to_list()\n",
    "cont_data=df.select_dtypes('float64').columns.to_list()\n",
    "disc_data=df.select_dtypes('int64').columns.to_list()\n",
    "all_data=df.columns.to_list()\n",
    "all_data2=df3.columns.to_list()"
   ]
  },
  {
   "cell_type": "code",
   "execution_count": 66,
   "metadata": {},
   "outputs": [
    {
     "name": "stdout",
     "output_type": "stream",
     "text": [
      "continuous data:['Credit_Limit', 'Avg_Open_To_Buy', 'Total_Amt_Chng_Q4_Q1', 'Total_Ct_Chng_Q4_Q1', 'Avg_Utilization_Ratio']\n",
      "discrete data:['Customer_Age', 'Dependent_count', 'Months_on_book', 'Total_Relationship_Count', 'Months_Inactive_12_mon', 'Contacts_Count_12_mon', 'Total_Revolving_Bal', 'Total_Trans_Amt', 'Total_Trans_Ct']\n",
      "categorical data:['Attrition_Flag', 'Gender', 'Education_Level', 'Marital_Status', 'Income_Category', 'Card_Category']\n"
     ]
    }
   ],
   "source": [
    "print(f'continuous data:{cont_data}')\n",
    "print(f'discrete data:{disc_data}')\n",
    "print(f'categorical data:{cat_data}')"
   ]
  },
  {
   "cell_type": "code",
   "execution_count": 40,
   "metadata": {
    "scrolled": false
   },
   "outputs": [
    {
     "data": {
      "text/html": [
       "\n",
       "        <iframe\n",
       "            width=\"100%\"\n",
       "            height=\"650\"\n",
       "            src=\"http://127.0.0.1:8050/\"\n",
       "            frameborder=\"0\"\n",
       "            allowfullscreen\n",
       "        ></iframe>\n",
       "        "
      ],
      "text/plain": [
       "<IPython.lib.display.IFrame at 0x1c00d236040>"
      ]
     },
     "metadata": {},
     "output_type": "display_data"
    }
   ],
   "source": [
    "external_stylesheets = ['https://codepen.io/chriddyp/pen/bWLwgP.css']\n",
    "app = JupyterDash(__name__, external_stylesheets=external_stylesheets)\n",
    "# app = dash.Dash(__name__)\n",
    "# app=JupyterDash(__name__)\n",
    "app.title = 'Customer Churn Prediction'\n",
    "app.layout = html.Div([\n",
    "    html.Div([\n",
    "    html.H2(\"Bank Customer Attrition Data Representation\",style={'color': 'blue', 'font-style': 'regular', 'font-weight': 'bold'}),\n",
    "          html.Div([ html.H3(\"Scatterplots\",style={'color': 'purple', 'font-style': 'regular', 'font-weight': 'bold'}),\n",
    "                    html.P(\"Select from the list below to display a scatterplot of correlations:\"),\n",
    "                  html.H5(\"All Data\"),\n",
    "    dcc.Dropdown(\n",
    "        id='contdata', \n",
    "        value=all_data[11], \n",
    "        options=[{'label': x, 'value': x} \n",
    "                 for x in all_data],\n",
    "        multi=False,\n",
    "        clearable=False\n",
    "        ),dcc.Dropdown(\n",
    "        id='contdata2', \n",
    "        value=all_data[12], \n",
    "        options=[{'label': x, 'value': x} \n",
    "                 for x in all_data],\n",
    "        multi=False,\n",
    "        clearable=False\n",
    "        ),\n",
    "               dcc.Graph(id=\"scatterplot\")]),\n",
    "        html.Div([ html.H3(\"Box Plots and Histograms\",style={'color': 'purple', 'font-style': 'regular', 'font-weight': 'bold'}),html.P(\"Data Columns:\"),\n",
    "                  html.P(\"Select from the list below to display the Histogram and Box plots:\"),\n",
    "    dcc.Dropdown(\n",
    "        id='alldata', \n",
    "        value=all_data[0], \n",
    "        options=[{'label': x, 'value': x} \n",
    "                 for x in all_data],\n",
    "        multi=False,\n",
    "        clearable=False\n",
    "        ),dcc.Graph(id=\"histogram\")]),\n",
    "                             \n",
    "         html.Div([ html.H4(\"Correlations Heatmap: Factor Correlation with Attrition\",style={'color': 'purple', 'font-style': 'regular', 'font-weight': 'bold'}),\n",
    "          html.Div(dcc.Graph(id= 'heatmap', figure =px.imshow(df3.corr())))\n",
    "                                    ]),\n",
    "        html.Div([html.H4(\"Barcharts: Display Correlation with Attrition\",style={'color': 'purple', 'font-style': 'regular', 'font-weight': 'bold'}), \n",
    "                  dcc.Graph(id='barplots', figure=px.bar(df3.corr()['Attrition_Flag'].sort_values(ascending = False)))\n",
    "                      ]),\n",
    "        html.Div([html.H4(\"Representative Pie Chart:\",style={'color': 'purple', 'font-style': 'regular', 'font-weight': 'bold'}),\n",
    "                  html.H6(\"Red represents churned customers, Blue Represents existing customers\"),\n",
    "                  dcc.Graph(id='piechart', figure=px.pie(df, values=df.Attrition_Flag.value_counts().values, labels=df.Attrition_Flag))\n",
    "\n",
    "                      ])                    \n",
    "    ])\n",
    "   \n",
    "])\n",
    "@app.callback(\n",
    "    dash.dependencies.Output(\"histogram\", \"figure\"),\n",
    "    [dash.dependencies.Input(\"alldata\", \"value\")])\n",
    "def histogram(prop):\n",
    "    fig =  px.histogram(df, x=prop, color=\"Attrition_Flag\", marginal=\"box\",hover_data=df.columns)\n",
    "    return fig\n",
    "@app.callback(\n",
    "    dash.dependencies.Output(\"scatterplot\", \"figure\"),\n",
    "    [dash.dependencies.Input(\"contdata\", \"value\")],[dash.dependencies.Input(\"contdata2\", \"value\")])\n",
    "def scatterplot(v1, v2):\n",
    "    fig=px.scatter(\n",
    "        df, x=v1, y=v2, color=\"Attrition_Flag\",\n",
    "        color_continuous_scale=\"Attrition_Flag\",\n",
    "        render_mode=\"webgl\", title=\"Tips\"\n",
    "    )    \n",
    "    return fig\n",
    "\n",
    "server = app.server\n",
    "if __name__ == '__main__':\n",
    "    app.run_server(debug=True, use_reloader=False,mode='inline')"
   ]
  },
  {
   "cell_type": "code",
   "execution_count": null,
   "metadata": {},
   "outputs": [],
   "source": []
  }
 ],
 "metadata": {
  "kernelspec": {
   "display_name": "Python 3",
   "language": "python",
   "name": "python3"
  },
  "language_info": {
   "codemirror_mode": {
    "name": "ipython",
    "version": 3
   },
   "file_extension": ".py",
   "mimetype": "text/x-python",
   "name": "python",
   "nbconvert_exporter": "python",
   "pygments_lexer": "ipython3",
   "version": "3.8.5"
  }
 },
 "nbformat": 4,
 "nbformat_minor": 4
}
